{
 "cells": [
  {
   "cell_type": "markdown",
   "id": "cb3952b8",
   "metadata": {},
   "source": [
    "# <b>Pemenuhan Feature Requirement dan Test Cases Program Super Cashier</b> "
   ]
  },
  {
   "cell_type": "markdown",
   "id": "dc117c2c",
   "metadata": {},
   "source": [
    "## <b>I. Modul cashier</b>"
   ]
  },
  {
   "cell_type": "code",
   "execution_count": 1,
   "id": "383a96d4",
   "metadata": {},
   "outputs": [
    {
     "name": "stdout",
     "output_type": "stream",
     "text": [
      "Selamat datang di Supermarket Andi!\n",
      "Masukkan id Anda: 12\n",
      "id transaksi Anda adalah transaction_12\n",
      "Selamat berbelanja!\n"
     ]
    }
   ],
   "source": [
    "import pandas as pd # untuk pembuatan dataframe tabel transaksi\n",
    "import sys # untuk melakukan exit program\n",
    "\n",
    "def create_id():\n",
    "  \n",
    "  # function untuk membuat id transaksi\n",
    "  print(\"Selamat datang di Supermarket Andi!\")\n",
    "  transaction_id = \"transaction_\" + input(\"Masukkan id Anda: \")\n",
    "  print(f\"id transaksi Anda adalah {transaction_id}\")\n",
    "  print(\"Selamat berbelanja!\")\n",
    "\n",
    "\n",
    "list_name = [] # untuk menampung inputan nama item pesanan\n",
    "list_qty = [] # untuk menampung inputan jumlah item pesanan\n",
    "list_price = [] # untuk input menampung inputan harga item pesanan\n",
    "list_subtotal = [] # untuk menampung hitungan jumlah * harga pesanan\n",
    "\n",
    "\n",
    "class Transaction(object): # Class dari transaksi menampung method-method untuk digunakan pada transaksi\n",
    "\n",
    "\n",
    "    def add_item(self):\n",
    "        \"\"\"\" Method ini untuk beli/menambah item pesanan mencakup nama, jumlah dan \n",
    "        harga item pesanan, sesuai petunjuk/ ketentuan penginputan yang tersedia \n",
    "        sehingga didapat data yang sesuai dan valid\"\"\"\n",
    "\n",
    "        while True:\n",
    "            try:\n",
    "                opsi_add = (str(input(\"Apakah Anda ingin beli/menambah item pesanan?: (yes/no)\"))).lower()\n",
    "\n",
    "                if opsi_add == \"yes\":\n",
    "                    while True:\n",
    "                        try:\n",
    "                            jumlah_tambahan = int(input(\"Anda mau beli/menambah pesanan berapa item?: \"))\n",
    "                            break\n",
    "                        except ValueError:\n",
    "                            print(\"Tuliskan jumlah pesanan dalam angka!\")\n",
    "        \n",
    "                    for i in range(jumlah_tambahan):\n",
    "                        self.item_name = input(\"Masukkan nama item pesanan: \")\n",
    "\n",
    "                        # validasi type data int untuk qty item\n",
    "                        while True:\n",
    "                            try:\n",
    "                                self.item_qty = int(input(\"Masukkan jumlah item pesanan: \"))\n",
    "                                break\n",
    "                            except ValueError:\n",
    "                                print(\"Tuliskan jumlah item pesanan dalam angka!\")\n",
    "\n",
    "                        # validasi type data int untuk harga item\n",
    "                        while True:\n",
    "                            try:\n",
    "                                self.item_price = int(input(\"Masukkan harga item pesanan: \"))\n",
    "                                break\n",
    "                            except ValueError:\n",
    "                                print(\"Tuliskan harga item pesanan dalam angka!\")\n",
    "                   \n",
    "                        self.subtotal = self.item_qty*self.item_price\n",
    "                        list_name.append(self.item_name)\n",
    "                        list_qty.append(self.item_qty)\n",
    "                        list_price.append(self.item_price)\n",
    "                        list_subtotal.append(self.subtotal)\n",
    "            \n",
    "                    print(\"Daftar pesanan yang telah dibeli/ditambahkan:\")\n",
    "                    dict_transaksi = {'Item Name' : list_name,\n",
    "                                        'Item Qty': list_qty,\n",
    "                                        'Item Price': list_price,\n",
    "                                        'subtotal' : list_subtotal}\n",
    "                    tabel_transaksi = pd.DataFrame(dict_transaksi)\n",
    "                    print (tabel_transaksi)\n",
    "                    break;\n",
    "                \n",
    "                elif opsi_add == \"no\":\n",
    "                    break;\n",
    "\n",
    "                else :\n",
    "                    print(\"Inputan Salah, silahkan input ulang!\")\n",
    "                   \n",
    "            except ValueError:\n",
    "                continue \n",
    "                \n",
    "\n",
    "    def check_order(self):\n",
    "        \"\"\"\" Method ini untuk memeriksa pesanan pelanggan, berupa tabel \n",
    "        sehingga pelanggan bisa memeriksa nama, jumlah, harga item pesanannya \n",
    "        dan menentukan opsi proses selanjutnya\"\"\"\n",
    "\n",
    "        dict_transaksi = {'Item Name' : list_name,\n",
    "                          'Item Qty': list_qty,\n",
    "                          'Item Price': list_price,\n",
    "                          'subtotal' : list_subtotal}\n",
    "        tabel_transaksi = pd.DataFrame(dict_transaksi)\n",
    "        \n",
    "        while True:\n",
    "            try :\n",
    "                kode_check = str(input(\"Apakah Anda ingin memeriksa pesanan anda ? (yes/no/cancel)\")).lower()\n",
    "                if kode_check == \"yes\":\n",
    "                    print(\"Daftar pesanan terbaru Anda:\")\n",
    "                    print (tabel_transaksi)\n",
    "                                        \n",
    "                    while True:\n",
    "                        try:\n",
    "                            hasil_check = str(input(\"Apakah pesanan Anda sudah benar?: (yes/no)\")).lower()\n",
    "                            if hasil_check == \"yes\":\n",
    "                                print(\"Pesanan anda sudah benar silahkan lakukan pembayaran!.\")\n",
    "                                break;\n",
    "                            elif hasil_check == \"no\":\n",
    "                                print(\"Terdapat kesalahan input, silahkan ubah pesanan anda!.\")\n",
    "                                break;\n",
    "                            else:\n",
    "                                print(\"Kode yang Anda masukkan salah, silahkan input ulang!.\")\n",
    "                                continue  \n",
    "                        except ValueError:\n",
    "                            continue\n",
    "                    break;    \n",
    "\n",
    "                elif kode_check == \"no\":\n",
    "                    break;\n",
    "                    \n",
    "                elif kode_check == \"cancel\":\n",
    "                    sys.exit(\"Pembatalan Proses...\")\n",
    "                    \n",
    "                else :\n",
    "                    print(\"Kode yang diinput salah, silahkan input ulang!\")\n",
    "                    \n",
    "            except ValueError:\n",
    "                continue\n",
    "                \n",
    "                \n",
    "    def update_item(self):\n",
    "        \"\"\"\" Method ini untuk mengubah data pesanan hasil inputan pelanggan, \n",
    "        sehingga pelanggan bisa mengubah nama, jumlah, harga item pesanannya \n",
    "        sesuai opsi petunjuk/ ketentuan penginputan yang tersedia sehingga didapat\n",
    "        data yang sesuai dan valid\"\"\"\n",
    "        \n",
    "        while True:\n",
    "            try:\n",
    "                opsi_update = input(\"Apakah Anda ingin merubah item pesanan?: (yes/no)\").lower()\n",
    "\n",
    "                if opsi_update == \"yes\":\n",
    "                                     \n",
    "                    print(\"1. mengganti nama item saja\")\n",
    "                    print(\"2. mengganti jumlah item saja\")\n",
    "                    print(\"3. mengganti harga item saja\")\n",
    "                    opsi_update_item = int(input(\"Tuliskan opsi merubah item: (1/2/3)\"))\n",
    "\n",
    "                    if opsi_update_item == 1:\n",
    "                        #validasi nama item yang akan diupdate\n",
    "                        for item in list_name:\n",
    "                            while True:\n",
    "                                try:\n",
    "                                    items_update_name = input(\"masukkan nama item yang diganti:\")\n",
    "                                    list_name.index(items_update_name)\n",
    "                                    break;\n",
    "                                except:\n",
    "                                    print(\"Nama item tidak ada dalam pesanan\")\n",
    "                                    continue\n",
    "                                      \n",
    "                            item_name_update = input(\"masukkan nama item pengganti: \")\n",
    "                            indeks_name = list_name.index(items_update_name)\n",
    "                            list_name[indeks_name] = item_name_update\n",
    "\n",
    "                            dict_transaksi = {'Item Name' : list_name,\n",
    "                                                'Item Qty': list_qty,\n",
    "                                                'Item Price': list_price,\n",
    "                                                'subtotal' : list_subtotal}\n",
    "                            tabel_transaksi = pd.DataFrame(dict_transaksi)\n",
    "\n",
    "                            print(\"Daftar pesanan yang telah diubah:\")\n",
    "                            print(tabel_transaksi)\n",
    "                            break;\n",
    "                        break;\n",
    "\n",
    "                    elif opsi_update_item == 2:\n",
    "                        #validasi nama item yang akan diupdate\n",
    "                        for item in list_name:\n",
    "                            while True:\n",
    "                                try:\n",
    "                                    items_update_name = input(\"masukkan nama item yang diganti:\")\n",
    "                                    list_name.index(items_update_name)\n",
    "                                    break;\n",
    "                                except:\n",
    "                                    print(\"Nama item tidak ada dalam pesanan\")\n",
    "                                    continue\n",
    "                            break;\n",
    "\n",
    "                        indeks_name = list_name.index(items_update_name)\n",
    "                        \n",
    "                        # validasi type data int untuk jumlah item\n",
    "                        for item in list_name:\n",
    "                            while True:\n",
    "                                try:\n",
    "                                    item_qty_update = int(input(\"masukkan jumlah item pengganti: \"))\n",
    "                                    break;\n",
    "                                except ValueError:\n",
    "                                    print(\"Tuliskan jumlah item dalam angka!\")\n",
    "                            \n",
    "            \n",
    "                            list_qty[indeks_name] = item_qty_update\n",
    "                            list_subtotal[indeks_name] = list_price[indeks_name]*item_qty_update\n",
    "\n",
    "                            dict_transaksi = {'Item Name' : list_name,\n",
    "                                            'Item Qty': list_qty,\n",
    "                                            'Item Price': list_price,\n",
    "                                            'subtotal' : list_subtotal}\n",
    "                            tabel_transaksi = pd.DataFrame(dict_transaksi)\n",
    "\n",
    "                            print(\"Daftar pesanan yang telah diubah:\")\n",
    "                            print(tabel_transaksi)\n",
    "                            break;\n",
    "                        break;\n",
    "\n",
    "                    elif opsi_update_item == 3:\n",
    "                        #validasi nama item yang akan diupdate\n",
    "                        for item in list_name:\n",
    "                            while True:\n",
    "                                try:\n",
    "                                    items_update_name = input(\"masukkan nama item yang diganti:\")\n",
    "                                    list_name.index(items_update_name)\n",
    "                                    break;\n",
    "                                except:\n",
    "                                    print(\"Nama item tidak ada dalam pesanan\")\n",
    "                                    continue\n",
    "                            break;\n",
    "                        indeks_name = list_name.index(items_update_name)\n",
    "                        \n",
    "                         # validasi type data int untuk harga item\n",
    "                        for item in list_name:\n",
    "                            while True:\n",
    "                                try:\n",
    "                                    item_price_update = int(input(\"masukkan harga item pengganti: \"))\n",
    "                                    break;\n",
    "                                except ValueError:\n",
    "                                    print(\"Tuliskan harga item dalam angka!\")\n",
    "                                            \n",
    "                            list_price[indeks_name] = item_price_update\n",
    "                            list_subtotal[indeks_name] = item_price_update*list_qty[indeks_name]\n",
    "\n",
    "                            dict_transaksi = {'Item Name' : list_name,\n",
    "                                            'Item Qty': list_qty,\n",
    "                                            'Item Price': list_price,\n",
    "                                            'subtotal' : list_subtotal}\n",
    "                            tabel_transaksi = pd.DataFrame(dict_transaksi)\n",
    "\n",
    "                            print(\"Daftar pesanan yang telah diubah:\")\n",
    "                            print(tabel_transaksi)\n",
    "                            break;\n",
    "                        break;\n",
    "\n",
    "                elif opsi_update == \"no\":\n",
    "                    break;\n",
    "                break;\n",
    "            \n",
    "            except ValueError:\n",
    "                continue\n",
    "\n",
    "    def update_item_name(self):\n",
    "        \"\"\"\" Method ini khusus untuk mengubah nama item pesanan, sesuai petunjuk/ \n",
    "        ketentuan penginputan yang tersedia sehingga didapat data yang sesuai dan valid\"\"\"\n",
    "       \n",
    "        while True:\n",
    "            try:\n",
    "                opsi_update = input(\"Apakah Anda ingin merubah nama item pesanan?: (yes/no)\").lower()\n",
    "\n",
    "                if opsi_update == \"yes\":\n",
    "                    #validasi nama item yang akan diupdate\n",
    "                    for item in list_name:\n",
    "                        while True:\n",
    "                            try:\n",
    "                                items_update_name = input(\"masukkan nama item yang diganti:\")\n",
    "                                list_name.index(items_update_name)\n",
    "                                break;\n",
    "                            except:\n",
    "                                print(\"Nama item tidak ada dalam pesanan\")\n",
    "                                continue\n",
    "                         \n",
    "                        \n",
    "                        item_name_update = input(\"masukkan nama item pengganti: \")\n",
    "                        \n",
    "                        indeks_name = list_name.index(items_update_name)\n",
    "                        list_name[indeks_name] = item_name_update                                            \n",
    "                        dict_transaksi = {'Item Name' : list_name,\n",
    "                                            'Item Qty': list_qty,\n",
    "                                            'Item Price': list_price,\n",
    "                                            'subtotal' : list_subtotal}\n",
    "                        tabel_transaksi = pd.DataFrame(dict_transaksi)\n",
    "\n",
    "                        print(\"Daftar pesanan yang telah diubah:\")\n",
    "                        print(tabel_transaksi) # menampilkan tabel pesanan setelah diupdate\n",
    "                        break;\n",
    "                \n",
    "                    else:\n",
    "                        print(\"Tidak ada Nama itu dalam pesanan\")\n",
    "                    break;\n",
    "                    \n",
    "                elif opsi_update == \"no\":\n",
    "                    break;\n",
    "                break;\n",
    "                \n",
    "            except ValueError:\n",
    "                continue         \n",
    " \n",
    "                 \n",
    "              \n",
    "    def update_item_qty(self): \n",
    "        \"\"\"\" Method ini khusus untuk mengubah jumlah item pesanan, sesuai petunjuk/ \n",
    "        ketentuan penginputan yang tersedia sehingga didapat data yang sesuai dan valid\"\"\"\n",
    "        \n",
    "        while True:\n",
    "            try:\n",
    "                opsi_update = input(\"Apakah Anda ingin merubah jumlah item pesanan?: (yes/no)\").lower()\n",
    "\n",
    "                if opsi_update == \"yes\":\n",
    "\n",
    "                     #validasi nama item yang akan diupdate\n",
    "                    for item in list_name:\n",
    "                        while True:\n",
    "                            try:\n",
    "                                items_update_name = input(\"masukkan nama item yang diganti:\")\n",
    "                                list_name.index(items_update_name)\n",
    "                                break;\n",
    "                            except:\n",
    "                                print(\"Nama item tidak ada dalam pesanan\")\n",
    "                                continue\n",
    "                        break;\n",
    "                    indeks_name = list_name.index(items_update_name)\n",
    "                \n",
    "                    # validasi type data int untuk jumlah item\n",
    "                    for item in list_name:\n",
    "                        while True:\n",
    "                            try:\n",
    "                                item_qty_update = int(input(\"masukkan jumlah item pengganti: \"))\n",
    "                                break;\n",
    "                            except ValueError:\n",
    "                                print(\"Tuliskan jumlah item dalam angka!\")\n",
    "            \n",
    "                        list_qty[indeks_name] = item_qty_update\n",
    "                        list_subtotal[indeks_name] = list_price[indeks_name]*item_qty_update\n",
    "\n",
    "                        dict_transaksi = {'Item Name' : list_name,\n",
    "                                        'Item Qty': list_qty,\n",
    "                                        'Item Price': list_price,\n",
    "                                        'subtotal' : list_subtotal}\n",
    "                        tabel_transaksi = pd.DataFrame(dict_transaksi)\n",
    "\n",
    "                        print(\"Daftar pesanan yang telah diubah:\")\n",
    "                        print(tabel_transaksi) # menampilkan tabel pesanan setelah diupdate\n",
    "                        break;\n",
    "                    break;\n",
    "\n",
    "                elif opsi_update == \"no\":\n",
    "                    break;\n",
    "                break;\n",
    "            \n",
    "            except ValueError:\n",
    "                continue \n",
    "\n",
    "\n",
    "    def update_item_price(self):\n",
    "        \"\"\"\" Method ini khusus untuk mengubah harga item pesanan, sesuai petunjuk/ \n",
    "        ketentuan penginputan yang tersedia sehingga didapat data yang sesuai dan valid\"\"\"\n",
    "        \n",
    "        while True:\n",
    "            try:\n",
    "                opsi_update = input(\"Apakah Anda ingin merubah harga item pesanan?: (yes/no)\").lower()\n",
    "\n",
    "                if opsi_update == \"yes\":\n",
    "        \n",
    "                    #validasi nama item yang akan diupdate\n",
    "                    for item in list_name:\n",
    "                            while True:\n",
    "                                try:\n",
    "                                    items_update_name = input(\"masukkan nama item yang diganti:\")\n",
    "                                    list_name.index(items_update_name)\n",
    "                                    break;\n",
    "                                except:\n",
    "                                    print(\"Nama item tidak ada dalam pesanan\")\n",
    "                                    continue\n",
    "                            break;\n",
    "\n",
    "                    indeks_name = list_name.index(items_update_name)\n",
    "                        \n",
    "                    # validasi type data int untuk harga item\n",
    "                    for item in list_name:\n",
    "                        while True:\n",
    "                            try:\n",
    "                                item_price_update = int(input(\"masukkan harga item pengganti: \"))\n",
    "                                break;\n",
    "                            except ValueError:\n",
    "                                print(\"Tuliskan harga item dalam angka!\")\n",
    "                                            \n",
    "                        list_price[indeks_name] = item_price_update\n",
    "                        list_subtotal[indeks_name] = item_price_update*list_qty[indeks_name]\n",
    "\n",
    "                        dict_transaksi = {'Item Name' : list_name,\n",
    "                                    'Item Qty': list_qty,\n",
    "                                    'Item Price': list_price,\n",
    "                                    'subtotal' : list_subtotal}\n",
    "                        tabel_transaksi = pd.DataFrame(dict_transaksi)\n",
    "\n",
    "                        print(\"Daftar pesanan yang telah diubah:\")\n",
    "                        print(tabel_transaksi) # menampilkan tabel pesanan setelah diupdate\n",
    "                        break;\n",
    "                    break;\n",
    "\n",
    "                elif opsi_update == \"no\":\n",
    "                    break;\n",
    "                break;\n",
    "                \n",
    "            except ValueError:\n",
    "                continue \n",
    "\n",
    "       \n",
    "    def delete_reset(self):\n",
    "\n",
    "        while True:\n",
    "            try:\n",
    "                opsi_delete = input(\"Apakah Anda ingin menghapus item pesanan?: (yes/no)\").lower()\n",
    "\n",
    "                if opsi_delete == \"yes\":\n",
    "                    print(\"1. mengganti sebagian item saja\")\n",
    "                    print(\"2. mengganti semua item/ reset\")\n",
    "                    opsi_delete_reset = (int(input(\"Pilih opsi menghapus pesanan: (1/2)\")))\n",
    "\n",
    "                    if opsi_delete_reset == 1:\n",
    "                        for item in list_name:\n",
    "                            while True:\n",
    "                                try:\n",
    "                                    items_delete_name = input(\"masukkan nama item yang akan dihapus:\")\n",
    "                                    list_name.index(items_delete_name)\n",
    "                                    break;\n",
    "                                except:\n",
    "                                    print(\"Nama item tidak ada dalam pesanan\")\n",
    "                                    continue\n",
    "\n",
    "                            indeks_delete_item = list_name.index(items_delete_name)\n",
    "                            list_name.pop(indeks_delete_item)\n",
    "                            list_qty.pop(indeks_delete_item)\n",
    "                            list_price.pop(indeks_delete_item)\n",
    "                            list_subtotal.pop(indeks_delete_item)\n",
    "\n",
    "                            dict_transaksi = {'Item Name' : list_name,\n",
    "                                        'Item Qty': list_qty,\n",
    "                                        'Item Price': list_price,\n",
    "                                        'subtotal' : list_subtotal}\n",
    "                            tabel_transaksi = pd.DataFrame(dict_transaksi)\n",
    "\n",
    "                            print(tabel_transaksi) # menampilkan tabel pesanan setelah penghapusan item\n",
    "                            print(\"item pesanan Anda telah dihapus.\")\n",
    "                            break;\n",
    "                        break;\n",
    "\n",
    "                    elif opsi_delete_reset == 2:\n",
    "                        list_name.clear()\n",
    "                        list_qty.clear()\n",
    "                        list_price.clear()\n",
    "                        list_subtotal.clear()\n",
    "\n",
    "                        dict_transaksi = {'Item Name' : list_name,\n",
    "                                    'Item Qty': list_qty,\n",
    "                                    'Item Price': list_price,\n",
    "                                    'subtotal' : list_subtotal}\n",
    "                        tabel_transaksi = pd.DataFrame(dict_transaksi)\n",
    "\n",
    "                        print(tabel_transaksi) # menampilkan tabel pesanan setelah direset\n",
    "                        print(\"Pesanan Anda telah dihapus silahkan belanja kembali!.\")\n",
    "                        break;\n",
    "                    break;\n",
    "                        \n",
    "                elif opsi_delete == \"no\":\n",
    "                    break;\n",
    "               \n",
    "                else :\n",
    "                    print(\"kode yang anda masukkan salah.\")\n",
    "                break;\n",
    "\n",
    "            except ValueError:\n",
    "                continue\n",
    "\n",
    "\n",
    "    def delete_item(self):\n",
    "        \"\"\"\" Method ini untuk menghapus item tertentu pesanan mencakup nama, \n",
    "         jumlah dan harga item pesanan (baris dalam tabel pesanan),\n",
    "         sesuai petunjuk/ ketentuan penginputan yang tersedia sehingga didapat \n",
    "         data yang sesuai dan valid\"\"\"\n",
    "        \n",
    "        while True:\n",
    "            try:\n",
    "                opsi_delete = (str(input(\"Apakah Anda ingin menghapus item pesanan?: (yes/no)\"))).lower()\n",
    "\n",
    "                if opsi_delete == \"yes\":\n",
    "\n",
    "                    #validasi nama item yang akan dihapus\n",
    "                    for item in list_name:\n",
    "                        while True:\n",
    "                            try:\n",
    "                                items_delete_name = input(\"masukkan nama item yang akan dihapus:\")\n",
    "                                list_name.index(items_delete_name)\n",
    "                                break;\n",
    "                            except:\n",
    "                                print(\"Nama item tidak ada dalam pesanan\")\n",
    "                                continue\n",
    "\n",
    "                        indeks_delete_item = list_name.index(items_delete_name)\n",
    "                        list_name.pop(indeks_delete_item)\n",
    "                        list_qty.pop(indeks_delete_item)\n",
    "                        list_price.pop(indeks_delete_item)\n",
    "                        list_subtotal.pop(indeks_delete_item)\n",
    "\n",
    "                        dict_transaksi = {'Item Name' : list_name,\n",
    "                                        'Item Qty': list_qty,\n",
    "                                        'Item Price': list_price,\n",
    "                                        'subtotal' : list_subtotal}\n",
    "                        tabel_transaksi = pd.DataFrame(dict_transaksi)\n",
    "\n",
    "                        print(tabel_transaksi) # menampilkan tabel pesanan setelah penghapusan item\n",
    "                        print(\"item pesanan Anda telah dihapus.\")\n",
    "                        break;\n",
    "                    break;\n",
    "\n",
    "                elif opsi_delete == \"no\":\n",
    "                    break;\n",
    "               \n",
    "                else :\n",
    "                    print(\"kode yang anda masukkan salah.\")\n",
    "                break;\n",
    "                   \n",
    "            except ValueError:\n",
    "                continue\n",
    "\n",
    "\n",
    "    def reset_order(self):\n",
    "        \"\"\"\" Method ini untuk menghapus keseluruhan item pesanan sehingga bisa mengulang \n",
    "        kembali input pesanan dari awal\"\"\"\n",
    "\n",
    "        print(\"Pesanan anda saat ini:\")\n",
    "        dict_transaksi = {'Item Name' : list_name,\n",
    "                          'Item Qty': list_qty,\n",
    "                          'Item Price': list_price,\n",
    "                          'subtotal' : list_subtotal}\n",
    "        \n",
    "        tabel_transaksi = pd.DataFrame(dict_transaksi)\n",
    "        print(tabel_transaksi)\n",
    "\n",
    "        while True:\n",
    "            try : \n",
    "                cek_reset = (input(\"Apakah Anda ingin menghapus semua pesanan ? (yes/no)\")).lower()\n",
    "                if cek_reset == \"yes\":\n",
    "                    list_name.clear()\n",
    "                    list_qty.clear()\n",
    "                    list_price.clear()\n",
    "                    list_subtotal.clear()\n",
    "\n",
    "                    dict_transaksi = {'Item Name' : list_name,\n",
    "                                    'Item Qty': list_qty,\n",
    "                                    'Item Price': list_price,\n",
    "                                    'subtotal' : list_subtotal}\n",
    "                    tabel_transaksi = pd.DataFrame(dict_transaksi)\n",
    "\n",
    "                    print(tabel_transaksi) # menampilkan tabel pesanan setelah direset\n",
    "                    print(\"Pesanan Anda telah dihapus silahkan belanja kembali!.\")\n",
    "                    break;\n",
    "\n",
    "                elif cek_reset == \"no\":\n",
    "                    print(\"silahkan lakukan pembayaran atau proses lainnya!.\")\n",
    "                    break;\n",
    "\n",
    "                else :\n",
    "                    print(\"Inputan Salah, silahkan input ulang!\")\n",
    "                break;   \n",
    "            except ValueError:\n",
    "                continue\n",
    "\n",
    "      \n",
    "    def check_discount(self):\n",
    "        \"\"\"\" Method ini untuk mengecek diskon, sehingga pelanggan bisa memeriksa \n",
    "        dapat diskon atau tidak, mengetahui berapa dapat diskonnya, mempertimbangkan \n",
    "        menambah pesanan untuk mendapatkan diskon sebelum check out pesanan\"\"\"\n",
    "        \n",
    "        \n",
    "        while True:\n",
    "            try :\n",
    "                kode_check = str(input(\"Apakah Anda ingin memeriksa diskon ? (yes/no/cancel)\"))\n",
    "                if kode_check == \"yes\":\n",
    "                    print(\"Ketentuan diskon:\")\n",
    "                    print(\"bila belanja > Rp 200.000 mendapat diskon sebesar 5%\")\n",
    "                    print(\"bila belanja > Rp 300.000 mendapat diskon sebesar 8%\")\n",
    "                    print(\"bila belanja > Rp. 500000 mendapat diskon sebesar 10%\")\n",
    "                    print(\"==========================================\")\n",
    "                    payment = sum(list_subtotal)\n",
    "\n",
    "                    if payment > 500_000:\n",
    "                        discount1 = int(payment*0.1)\n",
    "                        print(f\"Total harga pesanan Anda adalah: Rp {payment}.\\nAnda mendapatkan diskon sebesar 10% = Rp {discount1}\")\n",
    "                        break\n",
    "                    \n",
    "                    elif payment > 300_000:\n",
    "                        discount2 = int(payment*0.08)\n",
    "                        print(f\"Total harga pesanan Anda adalah: Rp {payment}.\\nAnda mendapatkan diskon sebesar 8% = Rp {discount2}\")\n",
    "                        break\n",
    "                    \n",
    "                    elif payment > 200_000:\n",
    "                        discount3 = int(payment*0.05)\n",
    "                        print(f\"Total harga pesanan Anda adalah: Rp {payment}.\\nAnda mendapatkan diskon sebesar 5% = Rp {discount3}\")\n",
    "                        break\n",
    "\n",
    "                    else:\n",
    "                        print(f\"Total harga pesanan Anda adalah: Rp {payment}.\\nAnda tidak mendapatkan diskon.\")\n",
    "                        break\n",
    "\n",
    "                elif kode_check == \"no\":\n",
    "                    break\n",
    "                    \n",
    "                elif kode_check == \"cancel\":\n",
    "                    sys.exit(\"Pembatalan Proses...\")  \n",
    "                    \n",
    "                else :\n",
    "                    print(\"Kode yang diinput salah, silahkan input ulang!\")\n",
    "                break;\n",
    "                \n",
    "            except ValueError:\n",
    "                continue\n",
    "\n",
    "\n",
    "    def check_out(self):\n",
    "        \"\"\"\" Method ini untuk melakukan check out atau pembayaran, selain itu tersedia opsi \n",
    "        cancel bila mau membatalkan pesanan dan no sebagai opsi untuk ke proses selanjutnya,\n",
    "        dalam resi pembayaran ditampilkan nama, jumlah, harga, subtotal harga item pesanan, \n",
    "        total harga pesanan, diskon dan total harga setelah diskon \"\"\"    \n",
    "        \n",
    "         \n",
    "        while True:\n",
    "            try :\n",
    "                kode_check = str(input(\"Apakah Anda ingin membayar pesanan anda ? (yes/no/cancel)\"))\n",
    "\n",
    "                if kode_check == \"yes\":\n",
    "                    dict_transaksi = {'Item Name' : list_name,\n",
    "                                        'Item Qty': list_qty,\n",
    "                                     'Item Price': list_price,\n",
    "                                        'subtotal' : list_subtotal}\n",
    "        \n",
    "                    tabel_transaksi = pd.DataFrame(dict_transaksi)\n",
    "                    print(tabel_transaksi)\n",
    "\n",
    "                    payment = sum(list_subtotal)\n",
    "\n",
    "                    if payment > 500_000:\n",
    "                        discount = int(payment*0.1)\n",
    "\n",
    "                    elif payment > 300_000:\n",
    "                        discount = int(payment*0.08)\n",
    "\n",
    "                    elif payment > 200_000:\n",
    "                        discount = int(payment*0.05)\n",
    "\n",
    "                    else:\n",
    "                        discount = 0\n",
    "\n",
    "                    total_payment = int(payment - discount)\n",
    "                    persen_discount = round((discount/payment)*100)\n",
    "\n",
    "                    print(f\"Total harga pesanan anda adalah: Rp {payment}\")\n",
    "\n",
    "                    if discount > 0:\n",
    "                        print (f\"Anda mendapatkan diskon sebesar {persen_discount}% = Rp {discount}\")\n",
    "                    \n",
    "                    else:\n",
    "                        print (\"Anda tidak mendapatkan diskon.\")\n",
    "                    \n",
    "                    print (f\"Total pembayaran adalah: Rp {total_payment}\")\n",
    "                    print (\"Terima Kasih sudah berbelanja di Supermarket kami.\")\n",
    "                    break;\n",
    "\n",
    "                elif kode_check == \"no\":\n",
    "                    break\n",
    "                    \n",
    "                elif kode_check == \"cancel\":\n",
    "                    sys.exit(\"Pembatalan Proses...\")  \n",
    "                    \n",
    "                else :\n",
    "                    print(\"Kode yang diinput salah, silahkan input ulang!\")\n",
    "\n",
    "            except ValueError:\n",
    "                continue\n",
    "\n",
    "\n",
    "\n",
    "\n",
    "create_id()\n"
   ]
  },
  {
   "cell_type": "markdown",
   "id": "644deeae",
   "metadata": {},
   "source": [
    "## <b>II. Pemenuhan Feature Requirements</b>"
   ]
  },
  {
   "cell_type": "markdown",
   "id": "52bfede1",
   "metadata": {},
   "source": [
    "<b>1. Membuat ID Transaksi Menggunakan Function create_id()</b>"
   ]
  },
  {
   "cell_type": "code",
   "execution_count": 2,
   "id": "e1325035",
   "metadata": {},
   "outputs": [
    {
     "name": "stdout",
     "output_type": "stream",
     "text": [
      "Selamat datang di Supermarket Andi!\n",
      "Masukkan id Anda: 12\n",
      "id transaksi Anda adalah transaction_12\n",
      "Selamat berbelanja!\n"
     ]
    }
   ],
   "source": [
    "transaction_id = create_id()"
   ]
  },
  {
   "cell_type": "markdown",
   "id": "c79264e2",
   "metadata": {},
   "source": [
    "<b>2. Menetapkan ID Transaksi Menjadi Objek Class Transaction()</b>"
   ]
  },
  {
   "cell_type": "code",
   "execution_count": 3,
   "id": "81c0bbf7",
   "metadata": {},
   "outputs": [],
   "source": [
    "transaction_12 = Transaction()"
   ]
  },
  {
   "cell_type": "markdown",
   "id": "b6e7cd3a",
   "metadata": {},
   "source": [
    "<b>3. Menambahkan Item Pesanan Dengan Method add_item() </b>"
   ]
  },
  {
   "cell_type": "code",
   "execution_count": 4,
   "id": "6144750b",
   "metadata": {},
   "outputs": [
    {
     "name": "stdout",
     "output_type": "stream",
     "text": [
      "Apakah Anda ingin beli/menambah item pesanan?: (yes/no)yes\n",
      "Anda mau beli/menambah pesanan berapa item?: 3\n",
      "Masukkan nama item pesanan: Mobil\n",
      "Masukkan jumlah item pesanan: 2\n",
      "Masukkan harga item pesanan: 20000\n",
      "Masukkan nama item pesanan: Mie\n",
      "Masukkan jumlah item pesanan: 1\n",
      "Masukkan harga item pesanan: 5000\n",
      "Masukkan nama item pesanan: Tempe\n",
      "Masukkan jumlah item pesanan: 3\n",
      "Masukkan harga item pesanan: 3000\n",
      "Daftar pesanan yang telah dibeli/ditambahkan:\n",
      "  Item Name  Item Qty  Item Price  subtotal\n",
      "0     Mobil         2       20000     40000\n",
      "1       Mie         1        5000      5000\n",
      "2     Tempe         3        3000      9000\n"
     ]
    }
   ],
   "source": [
    "transaction_12.add_item()"
   ]
  },
  {
   "cell_type": "markdown",
   "id": "39d61fb1",
   "metadata": {},
   "source": [
    "<b>4. 1 Memperbaiki Kesalahan Nama/Jumlah/Harga Item Pesanan (Melalui Opsi) Dengan Method update_item</b>"
   ]
  },
  {
   "cell_type": "markdown",
   "id": "0484fb2b",
   "metadata": {},
   "source": [
    "<b>Opsi 1 : merubah nama item</b>"
   ]
  },
  {
   "cell_type": "code",
   "execution_count": 5,
   "id": "ad2f3cf7",
   "metadata": {},
   "outputs": [
    {
     "name": "stdout",
     "output_type": "stream",
     "text": [
      "Apakah Anda ingin merubah item pesanan?: (yes/no)yes\n",
      "1. mengganti nama item saja\n",
      "2. mengganti jumlah item saja\n",
      "3. mengganti harga item saja\n",
      "Tuliskan opsi merubah item: (1/2/3)1\n",
      "masukkan nama item yang diganti:Mobil\n",
      "masukkan nama item pengganti: Car\n",
      "Daftar pesanan yang telah diubah:\n",
      "  Item Name  Item Qty  Item Price  subtotal\n",
      "0       Car         2       20000     40000\n",
      "1       Mie         1        5000      5000\n",
      "2     Tempe         3        3000      9000\n"
     ]
    }
   ],
   "source": [
    "transaction_12.update_item()"
   ]
  },
  {
   "cell_type": "markdown",
   "id": "07d39531",
   "metadata": {},
   "source": [
    "<b>Opsi 2: Merubah jumlah item</b>"
   ]
  },
  {
   "cell_type": "code",
   "execution_count": 6,
   "id": "8b0dca10",
   "metadata": {},
   "outputs": [
    {
     "name": "stdout",
     "output_type": "stream",
     "text": [
      "Apakah Anda ingin merubah item pesanan?: (yes/no)yes\n",
      "1. mengganti nama item saja\n",
      "2. mengganti jumlah item saja\n",
      "3. mengganti harga item saja\n",
      "Tuliskan opsi merubah item: (1/2/3)2\n",
      "masukkan nama item yang diganti:Mie\n",
      "masukkan jumlah item pengganti: 2\n",
      "Daftar pesanan yang telah diubah:\n",
      "  Item Name  Item Qty  Item Price  subtotal\n",
      "0       Car         2       20000     40000\n",
      "1       Mie         2        5000     10000\n",
      "2     Tempe         3        3000      9000\n"
     ]
    }
   ],
   "source": [
    "transaction_12.update_item()"
   ]
  },
  {
   "cell_type": "markdown",
   "id": "3427692a",
   "metadata": {},
   "source": [
    "<b>Opsi 3: Merubah harga item</b>"
   ]
  },
  {
   "cell_type": "code",
   "execution_count": 8,
   "id": "0543faa0",
   "metadata": {},
   "outputs": [
    {
     "name": "stdout",
     "output_type": "stream",
     "text": [
      "Apakah Anda ingin merubah item pesanan?: (yes/no)yes\n",
      "1. mengganti nama item saja\n",
      "2. mengganti jumlah item saja\n",
      "3. mengganti harga item saja\n",
      "Tuliskan opsi merubah item: (1/2/3)3\n",
      "masukkan nama item yang diganti:Tempe\n",
      "masukkan harga item pengganti: 4000\n",
      "Daftar pesanan yang telah diubah:\n",
      "  Item Name  Item Qty  Item Price  subtotal\n",
      "0       Car         2       20000     40000\n",
      "1       Mie         2        5000     10000\n",
      "2     Tempe         3        4000     12000\n"
     ]
    }
   ],
   "source": [
    "transaction_12.update_item()"
   ]
  },
  {
   "cell_type": "markdown",
   "id": "3025632a",
   "metadata": {},
   "source": [
    "<b>4. 2 Memperbaiki Kesalahan Nama Item Pesanan Dengan Method update_item_name()</b>"
   ]
  },
  {
   "cell_type": "code",
   "execution_count": 9,
   "id": "1179ea30",
   "metadata": {},
   "outputs": [
    {
     "name": "stdout",
     "output_type": "stream",
     "text": [
      "Apakah Anda ingin merubah nama item pesanan?: (yes/no)yes\n",
      "masukkan nama item yang diganti:Car\n",
      "masukkan nama item pengganti: Mobil\n",
      "Daftar pesanan yang telah diubah:\n",
      "  Item Name  Item Qty  Item Price  subtotal\n",
      "0     Mobil         2       20000     40000\n",
      "1       Mie         2        5000     10000\n",
      "2     Tempe         3        4000     12000\n"
     ]
    }
   ],
   "source": [
    "transaction_12.update_item_name()"
   ]
  },
  {
   "cell_type": "markdown",
   "id": "eed73fd0",
   "metadata": {},
   "source": [
    "<b>4. 3 Memperbaiki Kesalahan Jumlah Item Pesanan Dengan Method update_item_qty() </b>"
   ]
  },
  {
   "cell_type": "code",
   "execution_count": 10,
   "id": "66244bd3",
   "metadata": {},
   "outputs": [
    {
     "name": "stdout",
     "output_type": "stream",
     "text": [
      "Apakah Anda ingin merubah jumlah item pesanan?: (yes/no)yes\n",
      "masukkan nama item yang diganti:Mie\n",
      "masukkan jumlah item pengganti: 1\n",
      "Daftar pesanan yang telah diubah:\n",
      "  Item Name  Item Qty  Item Price  subtotal\n",
      "0     Mobil         2       20000     40000\n",
      "1       Mie         1        5000      5000\n",
      "2     Tempe         3        4000     12000\n"
     ]
    }
   ],
   "source": [
    "transaction_12.update_item_qty()"
   ]
  },
  {
   "cell_type": "markdown",
   "id": "d5ca67bd",
   "metadata": {},
   "source": [
    "<b>4. 4  Memperbaiki Kesalahan Harga Item Pesanan Dengan Method update_item_price() </b>"
   ]
  },
  {
   "cell_type": "code",
   "execution_count": 11,
   "id": "54f0f187",
   "metadata": {},
   "outputs": [
    {
     "name": "stdout",
     "output_type": "stream",
     "text": [
      "Apakah Anda ingin merubah harga item pesanan?: (yes/no)yes\n",
      "masukkan nama item yang diganti:Tempe\n",
      "masukkan harga item pengganti: 3000\n",
      "Daftar pesanan yang telah diubah:\n",
      "  Item Name  Item Qty  Item Price  subtotal\n",
      "0     Mobil         2       20000     40000\n",
      "1       Mie         1        5000      5000\n",
      "2     Tempe         3        3000      9000\n"
     ]
    }
   ],
   "source": [
    "transaction_12.update_item_price()"
   ]
  },
  {
   "cell_type": "markdown",
   "id": "15673c7e",
   "metadata": {},
   "source": [
    "<b>5. 1 Menghapus Sebagian/Seluruh Item Pesanan Melalui Opsi) Dengan Method delete_reset() </b>"
   ]
  },
  {
   "cell_type": "markdown",
   "id": "a188aef1",
   "metadata": {},
   "source": [
    "<b>Opsi 1: Menghapus sebagian item pesanan</b>"
   ]
  },
  {
   "cell_type": "code",
   "execution_count": 12,
   "id": "60d0f3bd",
   "metadata": {},
   "outputs": [
    {
     "name": "stdout",
     "output_type": "stream",
     "text": [
      "Apakah Anda ingin menghapus item pesanan?: (yes/no)yes\n",
      "1. mengganti sebagian item saja\n",
      "2. mengganti semua item/ reset\n",
      "Pilih opsi menghapus pesanan: (1/2)1\n",
      "masukkan nama item yang akan dihapus:Mie\n",
      "  Item Name  Item Qty  Item Price  subtotal\n",
      "0     Mobil         2       20000     40000\n",
      "1     Tempe         3        3000      9000\n",
      "item pesanan Anda telah dihapus.\n"
     ]
    }
   ],
   "source": [
    "transaction_12.delete_reset()"
   ]
  },
  {
   "cell_type": "markdown",
   "id": "dbb70346",
   "metadata": {},
   "source": [
    "<b>Opsi 2: Menghapus seluruh item pesanan</b>"
   ]
  },
  {
   "cell_type": "code",
   "execution_count": 13,
   "id": "f61bd2cb",
   "metadata": {},
   "outputs": [
    {
     "name": "stdout",
     "output_type": "stream",
     "text": [
      "Apakah Anda ingin menghapus item pesanan?: (yes/no)yes\n",
      "1. mengganti sebagian item saja\n",
      "2. mengganti semua item/ reset\n",
      "Pilih opsi menghapus pesanan: (1/2)2\n",
      "Empty DataFrame\n",
      "Columns: [Item Name, Item Qty, Item Price, subtotal]\n",
      "Index: []\n",
      "Pesanan Anda telah dihapus silahkan belanja kembali!.\n"
     ]
    }
   ],
   "source": [
    "transaction_12.delete_reset()"
   ]
  },
  {
   "cell_type": "markdown",
   "id": "c47ca8e4",
   "metadata": {},
   "source": [
    "<b>5. 2 Menghapus Sebagian Item Pesanan Dengan Method delete_item()</b>  "
   ]
  },
  {
   "cell_type": "code",
   "execution_count": 14,
   "id": "aae09e18",
   "metadata": {},
   "outputs": [
    {
     "name": "stdout",
     "output_type": "stream",
     "text": [
      "Apakah Anda ingin beli/menambah item pesanan?: (yes/no)yes\n",
      "Anda mau beli/menambah pesanan berapa item?: 3\n",
      "Masukkan nama item pesanan: Mobil\n",
      "Masukkan jumlah item pesanan: 2\n",
      "Masukkan harga item pesanan: 20000\n",
      "Masukkan nama item pesanan: Mie\n",
      "Masukkan jumlah item pesanan: 1\n",
      "Masukkan harga item pesanan: 5000\n",
      "Masukkan nama item pesanan: Tempe\n",
      "Masukkan jumlah item pesanan: 3\n",
      "Masukkan harga item pesanan: 3000\n",
      "Daftar pesanan yang telah dibeli/ditambahkan:\n",
      "  Item Name  Item Qty  Item Price  subtotal\n",
      "0     Mobil         2       20000     40000\n",
      "1       Mie         1        5000      5000\n",
      "2     Tempe         3        3000      9000\n"
     ]
    }
   ],
   "source": [
    "transaction_12.add_item()"
   ]
  },
  {
   "cell_type": "code",
   "execution_count": 15,
   "id": "397274b6",
   "metadata": {},
   "outputs": [
    {
     "name": "stdout",
     "output_type": "stream",
     "text": [
      "Apakah Anda ingin menghapus item pesanan?: (yes/no)yes\n",
      "masukkan nama item yang akan dihapus:Mie\n",
      "  Item Name  Item Qty  Item Price  subtotal\n",
      "0     Mobil         2       20000     40000\n",
      "1     Tempe         3        3000      9000\n",
      "item pesanan Anda telah dihapus.\n"
     ]
    }
   ],
   "source": [
    "transaction_12.delete_item()"
   ]
  },
  {
   "cell_type": "markdown",
   "id": "feda1af0",
   "metadata": {},
   "source": [
    "<b>5.3. Menghapus Seluruh Item Pesanan Dengan Method reset_order() </b>"
   ]
  },
  {
   "cell_type": "code",
   "execution_count": 16,
   "id": "c30956a5",
   "metadata": {},
   "outputs": [
    {
     "name": "stdout",
     "output_type": "stream",
     "text": [
      "Pesanan anda saat ini:\n",
      "  Item Name  Item Qty  Item Price  subtotal\n",
      "0     Mobil         2       20000     40000\n",
      "1     Tempe         3        3000      9000\n",
      "Apakah Anda ingin menghapus semua pesanan ? (yes/no)yes\n",
      "Empty DataFrame\n",
      "Columns: [Item Name, Item Qty, Item Price, subtotal]\n",
      "Index: []\n",
      "Pesanan Anda telah dihapus silahkan belanja kembali!.\n"
     ]
    }
   ],
   "source": [
    "transaction_12.reset_order()"
   ]
  },
  {
   "cell_type": "markdown",
   "id": "bc12a4fa",
   "metadata": {},
   "source": [
    "<b>6. Memeriksa Pesanan Dengan Method check_order() </b>"
   ]
  },
  {
   "cell_type": "code",
   "execution_count": 17,
   "id": "67899842",
   "metadata": {},
   "outputs": [
    {
     "name": "stdout",
     "output_type": "stream",
     "text": [
      "Apakah Anda ingin beli/menambah item pesanan?: (yes/no)yes\n",
      "Anda mau beli/menambah pesanan berapa item?: 3\n",
      "Masukkan nama item pesanan: Mobil\n",
      "Masukkan jumlah item pesanan: 2\n",
      "Masukkan harga item pesanan: 20000\n",
      "Masukkan nama item pesanan: Mie\n",
      "Masukkan jumlah item pesanan: 1\n",
      "Masukkan harga item pesanan: 5000\n",
      "Masukkan nama item pesanan: Tempe\n",
      "Masukkan jumlah item pesanan: 3\n",
      "Masukkan harga item pesanan: 3000\n",
      "Daftar pesanan yang telah dibeli/ditambahkan:\n",
      "  Item Name  Item Qty  Item Price  subtotal\n",
      "0     Mobil         2       20000     40000\n",
      "1       Mie         1        5000      5000\n",
      "2     Tempe         3        3000      9000\n"
     ]
    }
   ],
   "source": [
    "transaction_12.add_item()"
   ]
  },
  {
   "cell_type": "markdown",
   "id": "638e52cb",
   "metadata": {},
   "source": [
    "<b>6. 1 Output Pengecekkan Pesanan Yang Sudah Benar</b>"
   ]
  },
  {
   "cell_type": "code",
   "execution_count": 18,
   "id": "dff5b605",
   "metadata": {},
   "outputs": [
    {
     "name": "stdout",
     "output_type": "stream",
     "text": [
      "Apakah Anda ingin memeriksa pesanan anda ? (yes/no/cancel)yes\n",
      "Daftar pesanan terbaru Anda:\n",
      "  Item Name  Item Qty  Item Price  subtotal\n",
      "0     Mobil         2       20000     40000\n",
      "1       Mie         1        5000      5000\n",
      "2     Tempe         3        3000      9000\n",
      "Apakah pesanan Anda sudah benar?: (yes/no)yes\n",
      "Pesanan anda sudah benar silahkan lakukan pembayaran!.\n"
     ]
    }
   ],
   "source": [
    "transaction_12.check_order()"
   ]
  },
  {
   "cell_type": "markdown",
   "id": "200f3994",
   "metadata": {},
   "source": [
    "<b>6.2 Output Pengecekkan Pesanan Yang Masih Salah</b>"
   ]
  },
  {
   "cell_type": "code",
   "execution_count": 19,
   "id": "aa7ab441",
   "metadata": {},
   "outputs": [
    {
     "name": "stdout",
     "output_type": "stream",
     "text": [
      "Apakah Anda ingin memeriksa pesanan anda ? (yes/no/cancel)yes\n",
      "Daftar pesanan terbaru Anda:\n",
      "  Item Name  Item Qty  Item Price  subtotal\n",
      "0     Mobil         2       20000     40000\n",
      "1       Mie         1        5000      5000\n",
      "2     Tempe         3        3000      9000\n",
      "Apakah pesanan Anda sudah benar?: (yes/no)no\n",
      "Terdapat kesalahan input, silahkan ubah pesanan anda!.\n"
     ]
    }
   ],
   "source": [
    "transaction_12.check_order()"
   ]
  },
  {
   "cell_type": "markdown",
   "id": "bb86641b",
   "metadata": {},
   "source": [
    "<b>7. Memeriksa Diskon Dengan Method check_discount() </b>"
   ]
  },
  {
   "cell_type": "code",
   "execution_count": 20,
   "id": "049c42a5",
   "metadata": {},
   "outputs": [
    {
     "name": "stdout",
     "output_type": "stream",
     "text": [
      "Apakah Anda ingin memeriksa diskon ? (yes/no/cancel)yes\n",
      "Ketentuan diskon:\n",
      "bila belanja > Rp 200.000 mendapat diskon sebesar 5%\n",
      "bila belanja > Rp 300.000 mendapat diskon sebesar 8%\n",
      "bila belanja > Rp. 500000 mendapat diskon sebesar 10%\n",
      "==========================================\n",
      "Total harga pesanan Anda adalah: Rp 54000.\n",
      "Anda tidak mendapatkan diskon.\n"
     ]
    }
   ],
   "source": [
    "transaction_12.check_discount()"
   ]
  },
  {
   "cell_type": "markdown",
   "id": "02c132f8",
   "metadata": {},
   "source": [
    "## <b>III. Test Cases</b>"
   ]
  },
  {
   "cell_type": "markdown",
   "id": "43f34ae0",
   "metadata": {},
   "source": [
    "<b>Test Case 1 Menambahkan 2 item baru menggunakan method add_item()</b>"
   ]
  },
  {
   "cell_type": "code",
   "execution_count": 21,
   "id": "3a038c64",
   "metadata": {},
   "outputs": [
    {
     "name": "stdout",
     "output_type": "stream",
     "text": [
      "Pesanan anda saat ini:\n",
      "  Item Name  Item Qty  Item Price  subtotal\n",
      "0     Mobil         2       20000     40000\n",
      "1       Mie         1        5000      5000\n",
      "2     Tempe         3        3000      9000\n",
      "Apakah Anda ingin menghapus semua pesanan ? (yes/no)yes\n",
      "Empty DataFrame\n",
      "Columns: [Item Name, Item Qty, Item Price, subtotal]\n",
      "Index: []\n",
      "Pesanan Anda telah dihapus silahkan belanja kembali!.\n"
     ]
    }
   ],
   "source": [
    "transaction_12.reset_order()"
   ]
  },
  {
   "cell_type": "code",
   "execution_count": 22,
   "id": "024b39be",
   "metadata": {},
   "outputs": [
    {
     "name": "stdout",
     "output_type": "stream",
     "text": [
      "Apakah Anda ingin beli/menambah item pesanan?: (yes/no)yes\n",
      "Anda mau beli/menambah pesanan berapa item?: 2\n",
      "Masukkan nama item pesanan: Ayam Goreng\n",
      "Masukkan jumlah item pesanan: 2\n",
      "Masukkan harga item pesanan: 20000\n",
      "Masukkan nama item pesanan: Pasta Gigi\n",
      "Masukkan jumlah item pesanan: 2\n",
      "Masukkan harga item pesanan: 15000\n",
      "Daftar pesanan yang telah dibeli/ditambahkan:\n",
      "     Item Name  Item Qty  Item Price  subtotal\n",
      "0  Ayam Goreng         2       20000     40000\n",
      "1   Pasta Gigi         2       15000     30000\n"
     ]
    }
   ],
   "source": [
    "transaction_12.add_item()"
   ]
  },
  {
   "cell_type": "markdown",
   "id": "1b0ab913",
   "metadata": {},
   "source": [
    "<b>Test Case 2 Menghapus item \"Pasta Gigi\" menggunakan method delete_item()</b> "
   ]
  },
  {
   "cell_type": "code",
   "execution_count": 23,
   "id": "832679c7",
   "metadata": {},
   "outputs": [
    {
     "name": "stdout",
     "output_type": "stream",
     "text": [
      "Apakah Anda ingin menghapus item pesanan?: (yes/no)yes\n",
      "masukkan nama item yang akan dihapus:Pasta Gigi\n",
      "     Item Name  Item Qty  Item Price  subtotal\n",
      "0  Ayam Goreng         2       20000     40000\n",
      "item pesanan Anda telah dihapus.\n"
     ]
    }
   ],
   "source": [
    "transaction_12.delete_item()"
   ]
  },
  {
   "cell_type": "markdown",
   "id": "34fd8c66",
   "metadata": {},
   "source": [
    "<b>Test Case 3 Menghapus semua item menggunakan method reset_order()</b> "
   ]
  },
  {
   "cell_type": "code",
   "execution_count": 24,
   "id": "092a3ec2",
   "metadata": {},
   "outputs": [
    {
     "name": "stdout",
     "output_type": "stream",
     "text": [
      "Pesanan anda saat ini:\n",
      "     Item Name  Item Qty  Item Price  subtotal\n",
      "0  Ayam Goreng         2       20000     40000\n",
      "Apakah Anda ingin menghapus semua pesanan ? (yes/no)yes\n",
      "Empty DataFrame\n",
      "Columns: [Item Name, Item Qty, Item Price, subtotal]\n",
      "Index: []\n",
      "Pesanan Anda telah dihapus silahkan belanja kembali!.\n"
     ]
    }
   ],
   "source": [
    "transaction_12.reset_order()"
   ]
  },
  {
   "cell_type": "markdown",
   "id": "3f5f0060",
   "metadata": {},
   "source": [
    "<b>Test Case 4 Menghitung total harga belanjaan dengan method check_out()</b>"
   ]
  },
  {
   "cell_type": "code",
   "execution_count": 25,
   "id": "25e5a092",
   "metadata": {},
   "outputs": [
    {
     "name": "stdout",
     "output_type": "stream",
     "text": [
      "Apakah Anda ingin beli/menambah item pesanan?: (yes/no)yes\n",
      "Anda mau beli/menambah pesanan berapa item?: 5\n",
      "Masukkan nama item pesanan: Mobil\n",
      "Masukkan jumlah item pesanan: 2\n",
      "Masukkan harga item pesanan: 100000\n",
      "Masukkan nama item pesanan: Mie\n",
      "Masukkan jumlah item pesanan: 1\n",
      "Masukkan harga item pesanan: 5000\n",
      "Masukkan nama item pesanan: Tempe\n",
      "Masukkan jumlah item pesanan: 3\n",
      "Masukkan harga item pesanan: 3000\n",
      "Masukkan nama item pesanan: Ayam goreng\n",
      "Masukkan jumlah item pesanan: 2\n",
      "Masukkan harga item pesanan: 20000\n",
      "Masukkan nama item pesanan: Pasta Gigi\n",
      "Masukkan jumlah item pesanan: 2\n",
      "Masukkan harga item pesanan: 15000\n",
      "Daftar pesanan yang telah dibeli/ditambahkan:\n",
      "     Item Name  Item Qty  Item Price  subtotal\n",
      "0        Mobil         2      100000    200000\n",
      "1          Mie         1        5000      5000\n",
      "2        Tempe         3        3000      9000\n",
      "3  Ayam goreng         2       20000     40000\n",
      "4   Pasta Gigi         2       15000     30000\n"
     ]
    }
   ],
   "source": [
    "transaction_12.add_item()"
   ]
  },
  {
   "cell_type": "code",
   "execution_count": 26,
   "id": "e11e4f9e",
   "metadata": {},
   "outputs": [
    {
     "name": "stdout",
     "output_type": "stream",
     "text": [
      "Apakah Anda ingin membayar pesanan anda ? (yes/no/cancel)yes\n",
      "     Item Name  Item Qty  Item Price  subtotal\n",
      "0        Mobil         2      100000    200000\n",
      "1          Mie         1        5000      5000\n",
      "2        Tempe         3        3000      9000\n",
      "3  Ayam goreng         2       20000     40000\n",
      "4   Pasta Gigi         2       15000     30000\n",
      "Total harga pesanan anda adalah: Rp 284000\n",
      "Anda mendapatkan diskon sebesar 5% = Rp 14200\n",
      "Total pembayaran adalah: Rp 269800\n",
      "Terima Kasih sudah berbelanja di Supermarket kami.\n"
     ]
    }
   ],
   "source": [
    "transaction_12.check_out()"
   ]
  }
 ],
 "metadata": {
  "kernelspec": {
   "display_name": "Python 3 (ipykernel)",
   "language": "python",
   "name": "python3"
  },
  "language_info": {
   "codemirror_mode": {
    "name": "ipython",
    "version": 3
   },
   "file_extension": ".py",
   "mimetype": "text/x-python",
   "name": "python",
   "nbconvert_exporter": "python",
   "pygments_lexer": "ipython3",
   "version": "3.10.11"
  }
 },
 "nbformat": 4,
 "nbformat_minor": 5
}
